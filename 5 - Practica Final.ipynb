{
 "cells": [
  {
   "cell_type": "markdown",
   "metadata": {},
   "source": [
    "# Practica Final\n",
    "\n",
    "## Ejercicio 1\n",
    "Analize el Generador de Congruencial Lineal(LCG): $X_i = (13X_i - _1 + 13)(mod (16)), X_0 = 37$ usando el teorema de la leccción 1.\n",
    "\n",
    "(a) Cual es la maxima longitud del periodo para este generador? Este generador alcanza su maxima longitud possible de periodo? Justifique su respuesta\n",
    "\n",
    "(b) Genere los numeros pseudorandom uniformes hasta el limite superior de su periodo.\n",
    "\n",
    "## Ejercicio 2\n",
    "\n",
    "Considerando la siguiente collección de numeros\n",
    "\n",
    "0.2379 0.7551 0.2972 0.8469 0.9496\n",
    "0.2268 0.3045 0.6964 0.1246 0.842\n",
    "0.3525 0.8075 0.1489 0.5480 0.5095\n",
    "0.4047 0.5195 0.6545 0.6536 0.3427\n",
    "0.2989 0.247 0.4566 0.6146 0.8699\n",
    "0.9084 0.1709 0.3387 0.6557 0.9672 \n",
    "0.9462 0.9583 0.9537 0.9376 0.9058 \n",
    "0.3795 0.1117 0.3258 0.6653 0.7864 \n",
    "0.3237 0.6723 0.5649 0.9804 0.3356 \n",
    "0.3807 0.8364 0.6242 0.8589 0.5824\n",
    "\n",
    "(a) Pruebe la hyphotesis de que estos nuemeros son tomados en el intervalo $U(0,1)$ a un nivel de confianza de 95% con Chi-Cuadrado usando l0 intervalos.\n",
    "(b) Realize el mismo analysis usando la prueba arimetica.\n",
    "\n",
    "\n",
    "## Ejercicio 3\n",
    "\n",
    "Considerando la siguiente collección de numeros generados aleatoriamente\n",
    "\n",
    "0.07235\t0.28062\t0.47651\t0.92814\t0.43115\n",
    "0.72609\t0.66596\t0.03990\t0.79626\t0.43136\n",
    "0.31728\t0.49295\t0.57372\t0.76589\t0.44149\n",
    "0.89505\t0.16161\t0.58474\t0.72601\t0.44044\n",
    "0.86454\t0.60919\t0.50754\t0.77183\t0.32824\n",
    "0.67463\t0.86133\t0.31029\t0.48633\t0.85667\n",
    "0.92858\t0.95841\t0.59292\t0.47614\t0.08768\n",
    "0.96168\t0.54497\t0.54029\t0.44223\t0.37524\n",
    "0.31960\t0.44161\t0.41145\t0.15766\t0.69932\n",
    "0.45187\t0.43049\t0.40810\t0.50297\t0.74898\n",
    "\n",
    "Pruebe la hyphotesis de que estos nuemeros son tomados en el intervalo $U(0,1)$ a un nivel de confianza de 95% con La prueba de pocker usando l0 intervalos.\n",
    "\n",
    "\n",
    "## Ejercicio 4\n",
    "\n",
    "Considere los siguientes numeros aleatorios distribuidos aleatoriamente:\n",
    "\n",
    "|U1 |        U2 |       U3|        U4|        U5|       U6 |        U7 |      U8 |\n",
    "|--------------|-------------------|---------------|\n",
    "|0.9559 | 0.5814 | 0.6534| 0.5548| 0.5330| 0.5219| 0.2839| 0.3734 |\n",
    "\n",
    "(a) Genere los numeres aleatorios para una media de 10 usando la función exponencial inversa."
   ]
  },
  {
   "cell_type": "code",
   "execution_count": null,
   "metadata": {},
   "outputs": [],
   "source": [
    "Real"
   ]
  }
 ],
 "metadata": {
  "kernelspec": {
   "display_name": "Python 3",
   "language": "python",
   "name": "python3"
  },
  "language_info": {
   "codemirror_mode": {
    "name": "ipython",
    "version": 3
   },
   "file_extension": ".py",
   "mimetype": "text/x-python",
   "name": "python",
   "nbconvert_exporter": "python",
   "pygments_lexer": "ipython3",
   "version": "3.6.2"
  }
 },
 "nbformat": 4,
 "nbformat_minor": 2
}
