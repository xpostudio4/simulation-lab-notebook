{
 "cells": [
  {
   "cell_type": "markdown",
   "metadata": {},
   "source": [
    "# Practica No.2 Laboratorio\n",
    "\n",
    "*Ejercicio 1*. Realizar la pruebas de Media Aritmética y Prueba de Poker a esta distribución de numero y compartir los resultados en una hoja de Excel y explicar si pasa o no la prueba\n",
    "\n",
    "0.03557\t0.38161\t0.79273\t0.85914\t0.55973\n",
    "0.73282\t0.52137\t0.75881\t0.35924\t0.50506\n",
    "0.81072\t0.39273\t0.41417\t0.88255\t0.09812\n",
    "0.71546\t0.17420\t0.25932\t0.98893\t0.40139\n",
    "0.87453\t0.28481\t0.51289\t0.50740\t0.01496\n",
    "0.04754\t0.18305\t0.36482\t0.25320\t0.84227\n",
    "0.10798\t0.03084\t0.60881\t0.47303\t0.39759\n",
    "0.71628\t0.39932\t0.11503\t0.99726\t0.31466\n",
    "0.70753\t0.41447\t0.74524\t0.39038\t0.10834\n",
    "0.23751\t0.51933\t0.65730\t0.74038\t0.80590\n",
    "0.39114\t0.45220\t0.49999\t0.35546\t0.95863\n",
    "0.69859\t0.56682\t0.52647\t0.09232\t0.45079\n",
    "0.24797\t0.78728\t0.15975\t0.23827\t0.98383\n",
    "0.91144\t0.85228\t0.90833\t0.83465\t0.16893\n",
    "0.21360\t0.84199\t0.15590\t0.05432\t0.83550\n",
    "0.61490\t0.69077\t0.05017\t0.80920\t0.76071\n",
    "0.50657\t0.38180\t0.73163\t0.85788\t0.40197\n",
    "0.65257\t0.05194\t0.81092\t0.18372\t0.03548\n",
    "0.41476\t0.21527\t0.59614\t0.52622\t0.76386\n",
    "0.95214\t0.12286\t0.09517\t0.76503\t0.42041\n",
    "0.21360\t0.24199\t0.19790\t0.03332\t0.23550\n",
    "0.31489\t0.21229\t0.79148\t0.56219\t0.16361"
   ]
  },
  {
   "cell_type": "markdown",
   "metadata": {},
   "source": [
    "*Ejercicio 2*. Analize el siguiente generador lineal : $X_i = (13X_{i−1} + 13)(mod (16)), \\ X_0 = 37$ usando el Teorema 1 de la primera práctica.\n",
    "(a) Cual es la longitud maximá posible del periodo para este generado? El generador alcanzaDoes this gener- ator achieve the maximum possible period length? Justify your answer.\n",
    "(b) Generate two pseudorandom uniform numbers for this generator."
   ]
  },
  {
   "cell_type": "code",
   "execution_count": null,
   "metadata": {},
   "outputs": [],
   "source": []
  }
 ],
 "metadata": {
  "kernelspec": {
   "display_name": "Python 3",
   "language": "python",
   "name": "python3"
  },
  "language_info": {
   "codemirror_mode": {
    "name": "ipython",
    "version": 3
   },
   "file_extension": ".py",
   "mimetype": "text/x-python",
   "name": "python",
   "nbconvert_exporter": "python",
   "pygments_lexer": "ipython3",
   "version": "3.5.1"
  }
 },
 "nbformat": 4,
 "nbformat_minor": 2
}
