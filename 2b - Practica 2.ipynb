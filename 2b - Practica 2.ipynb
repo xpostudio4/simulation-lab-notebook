{
 "cells": [
  {
   "cell_type": "markdown",
   "metadata": {},
   "source": [
    "# Practica No.2 Laboratorio\n",
    "\n",
    "*Ejercicio 1*. Realizar la pruebas de Media Aritmética y Prueba de Poker a esta distribución de numero y compartir los resultados en una hoja de Excel y explicar si pasa o no la prueba\n",
    "\n",
    "0.03557\t0.38161\t0.79273\t0.85914\t0.55973\n",
    "0.73282\t0.52137\t0.75881\t0.35924\t0.50506\n",
    "0.81072\t0.39273\t0.41417\t0.88255\t0.09812\n",
    "0.71546\t0.17420\t0.25932\t0.98893\t0.40139\n",
    "0.87453\t0.28481\t0.51289\t0.50740\t0.01496\n",
    "0.04754\t0.18305\t0.36482\t0.25320\t0.84227\n",
    "0.10798\t0.03084\t0.60881\t0.47303\t0.39759\n",
    "0.71628\t0.39932\t0.11503\t0.99726\t0.31466\n",
    "0.70753\t0.41447\t0.74524\t0.39038\t0.10834\n",
    "0.23751\t0.51933\t0.65730\t0.74038\t0.80590\n",
    "0.39114\t0.45220\t0.49999\t0.35546\t0.95863\n",
    "0.69859\t0.56682\t0.52647\t0.09232\t0.45079\n",
    "0.24797\t0.78728\t0.15975\t0.23827\t0.98383\n",
    "0.91144\t0.85228\t0.90833\t0.83465\t0.16893\n",
    "0.21360\t0.84199\t0.15590\t0.05432\t0.83550\n",
    "0.61490\t0.69077\t0.05017\t0.80920\t0.76071\n",
    "0.50657\t0.38180\t0.73163\t0.85788\t0.40197\n",
    "0.65257\t0.05194\t0.81092\t0.18372\t0.03548\n",
    "0.41476\t0.21527\t0.59614\t0.52622\t0.76386\n",
    "0.95214\t0.12286\t0.09517\t0.76503\t0.42041\n",
    "0.21360\t0.24199\t0.19790\t0.03332\t0.23550\n",
    "0.31489\t0.21229\t0.79148\t0.56219\t0.16361\n",
    "\n",
    "Hicimos un programa que permite obtener los numeros de la distribución de poker, por favor realizar la prueba de poker para estos numeros con los datos mas abajo."
   ]
  },
  {
   "cell_type": "code",
   "execution_count": 1,
   "metadata": {},
   "outputs": [
    {
     "name": "stdout",
     "output_type": "stream",
     "text": [
      "Cuatro iguales :  1\n",
      "Un par y un trio :  0\n",
      "Dos pares :  10\n",
      "Un par :  54\n",
      "Cinco iguales :  0\n",
      "Un trio :  5\n",
      "Todos Diferentes :  40\n"
     ]
    }
   ],
   "source": [
    "from collections import Counter\n",
    "\n",
    "numbers = [\n",
    "    \"0.03557\", \"0.38161\", \"0.79273\", \"0.85914\", \"0.55973\", \"0.73282\", \"0.52137\", \"0.75881\", \"0.35924\", \"0.50506\",\n",
    "    \"0.81072\", \"0.39273\", \"0.41417\", \"0.88255\", \"0.09812\", \"0.71546\", \"0.17420\", \"0.25932\", \"0.98893\", \"0.40139\",\n",
    "    \"0.87453\", \"0.28481\", \"0.51289\", \"0.50740\", \"0.01496\", \"0.04754\", \"0.18305\", \"0.36482\", \"0.25320\", \"0.84227\",\n",
    "    \"0.10798\", \"0.03084\", \"0.60881\", \"0.47303\", \"0.39759\", \"0.71628\", \"0.39932\", \"0.11503\", \"0.99726\", \"0.31466\",\n",
    "    \"0.70753\", \"0.41447\", \"0.74524\", \"0.39038\", \"0.10834\", \"0.23751\", \"0.51933\", \"0.65730\", \"0.74038\", \"0.80590\", \n",
    "    \"0.39114\", \"0.45220\", \"0.49999\", \"0.35546\", \"0.95863\", \"0.69859\", \"0.56682\", \"0.52647\", \"0.09232\", \"0.45079\",\n",
    "    \"0.24797\", \"0.78728\", \"0.15975\", \"0.23827\", \"0.98383\", \"0.91144\", \"0.85228\", \"0.90833\", \"0.83465\", \"0.16893\",\n",
    "    \"0.21360\", \"0.84199\", \"0.15590\", \"0.05432\", \"0.83550\", \"0.61490\", \"0.69077\", \"0.05017\", \"0.80920\", \"0.76071\",\n",
    "    \"0.50657\", \"0.38180\", \"0.73163\", \"0.85788\", \"0.40197\", \"0.65257\", \"0.05194\", \"0.81092\", \"0.18372\", \"0.03548\",\n",
    "    \"0.41476\", \"0.21527\", \"0.59614\", \"0.52622\", \"0.76386\", \"0.95214\", \"0.12286\", \"0.09517\", \"0.76503\", \"0.42041\",\n",
    "    \"0.21360\", \"0.24199\", \"0.19790\", \"0.03332\", \"0.23550\", \"0.31489\", \"0.21229\", \"0.79148\", \"0.56219\", \"0.16361\",\n",
    "  ]\n",
    "\n",
    "def get_counter(number_string):\n",
    "  return Counter(number_string[2:])\n",
    "\n",
    "\n",
    "def classify_items(numbers_list):\n",
    "  count_array = {\n",
    "  \"Todos Diferentes\": 0,\n",
    "  \"Un par\": 0,\n",
    "  \"Un trio\": 0,\n",
    "  \"Dos pares\": 0,\n",
    "  \"Un par y un trio\": 0,\n",
    "  \"Cuatro iguales\": 0,\n",
    "  \"Cinco iguales\": 0\n",
    "  }\n",
    "  \n",
    "  for number in numbers_list:\n",
    "    counter_object = get_counter(number)\n",
    "    values = list(counter_object.values())\n",
    "    # print(\"values: \", values, \"type\", type(values))\n",
    "    sorted_values = sorted(values)\n",
    "    # print(\"sorted values: \", sorted_values)\n",
    "    first = sorted_values.pop()\n",
    "    if sorted_values:\n",
    "      second = sorted_values.pop()\n",
    "    \n",
    "    if first == 5:\n",
    "      count_array['Cinco iguales'] += 1\n",
    "    elif first == 2 and second == 1:\n",
    "      count_array['Un par'] += 1\n",
    "    elif first == 3 and second == 1:\n",
    "      count_array['Un trio'] += 1\n",
    "    elif first == 2 and second == 2:\n",
    "      count_array['Dos pares'] += 1\n",
    "    elif first == 3 and second == 2:\n",
    "      count_array['Un par y un trio'] += 1\n",
    "    elif first == 4:\n",
    "      count_array['Cuatro iguales'] += 1\n",
    "    else:\n",
    "      \n",
    "      count_array['Todos Diferentes'] += 1\n",
    "      \n",
    "  return count_array\n",
    "  \n",
    "\n",
    "for key, value in classify_items(numbers).items():\n",
    "  print(key,\": \", value)"
   ]
  },
  {
   "cell_type": "markdown",
   "metadata": {},
   "source": [
    "*Ejercicio 2*. Analize el siguiente generador lineal : \n",
    "\n",
    "$X_i = (13X_{i−1} + 13)(mod (16)), \\ X_0 = 37$\n",
    "\n",
    "usando el Teorema 1 de la primera práctica.\n",
    "(a) Cual es la longitud maximá posible del periodo para este generado? El generador alcanza el periodo posible máximo para la longitud del periodo? Justifique su respuesta.\n",
    "(b) Genere los 4 primeros numeros de la secuencia con este generador."
   ]
  },
  {
   "cell_type": "code",
   "execution_count": null,
   "metadata": {},
   "outputs": [],
   "source": []
  }
 ],
 "metadata": {
  "kernelspec": {
   "display_name": "Python 3",
   "language": "python",
   "name": "python3"
  },
  "language_info": {
   "codemirror_mode": {
    "name": "ipython",
    "version": 3
   },
   "file_extension": ".py",
   "mimetype": "text/x-python",
   "name": "python",
   "nbconvert_exporter": "python",
   "pygments_lexer": "ipython3",
   "version": "3.5.1"
  }
 },
 "nbformat": 4,
 "nbformat_minor": 2
}
