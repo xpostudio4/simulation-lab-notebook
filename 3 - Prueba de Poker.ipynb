{
 "cells": [
  {
   "cell_type": "markdown",
   "metadata": {},
   "source": [
    "## Prueba de Poker\n",
    "\n",
    "Esta es una prueba de independencia basada en la frecuencia con que ciertos digitos se repiten en una serie de números. Su nombre se debe al popular juego de cartas Poker. Consideremos la siguiente serie de números con una repetición inusal de digitos:"
   ]
  },
  {
   "cell_type": "code",
   "execution_count": null,
   "metadata": {},
   "outputs": [],
   "source": [
    "sample = [0.255, 0.577, 0.331, 0.414, 0.828, 0.909, 0.033, 0.010]"
   ]
  },
  {
   "cell_type": "markdown",
   "metadata": {},
   "source": [
    "En cada caso aparecen uno de los tres digitos repetido y las posibilidades para este caso son:\n",
    "\n",
    "* Los tres digitos distintos\n",
    "* Los tres digitos iguales\n",
    "* Un par de digitos iguales\n",
    "\n",
    "y las probabilidades asociadas son:\n",
    "\n",
    "* P(todos distintos) = P(segundo distinto del primero)P(tercero distnto del segundo) = (0.9)(0.8) = 0.72\n",
    "* P(todos iguales) = P(segundo igual al primero)P(tercero igual al segundo) = (0.1)(0.1) = 0.01\n",
    "* P(un par) = 1 – 0.72 – 0.01 = 0.27 (la unica opcion restante y podemos calcular por complemento)\n",
    "\n",
    "\n",
    "Supongamos una secuencia de 1000 números aleatorios en donde se analizan los tres primeros digitos y se tiene que 680 tienen los 3 digitos distintos, 289 contienen exactamente un par y 31 tienen todos iguales. Los calculos respectivos usando la prueba Chi-Cuadrado son:\n",
    "\n",
    "<img src=\"Chi-example.png\">\n"
   ]
  },
  {
   "cell_type": "markdown",
   "metadata": {},
   "source": [
    "Observamos que \n",
    "\n",
    "\\begin{equation}\n",
    " 47.66 > \\tilde{\\chi}^2_{0.05, 2}=\\ 5.99 \\\\\n",
    "\\end{equation}\n",
    "\n",
    "Por lo tanto rechazamos la hipótesis de independencia de los números.\n",
    "\n",
    "Esta prueba se puede extender a más digitos pero a su vez las posibilidades aumentan y olos calculos se\n",
    "complican. Por ejemplo, para 5 digitos, podriamos tener, todos iguales, todos distintos, exactamente un par, exactamente un trio, un trio y un par, dos pares, etc."
   ]
  },
  {
   "cell_type": "code",
   "execution_count": null,
   "metadata": {},
   "outputs": [],
   "source": []
  }
 ],
 "metadata": {
  "kernelspec": {
   "display_name": "Python 3",
   "language": "python",
   "name": "python3"
  },
  "language_info": {
   "codemirror_mode": {
    "name": "ipython",
    "version": 3
   },
   "file_extension": ".py",
   "mimetype": "text/x-python",
   "name": "python",
   "nbconvert_exporter": "python",
   "pygments_lexer": "ipython3",
   "version": "3.5.1"
  }
 },
 "nbformat": 4,
 "nbformat_minor": 2
}
