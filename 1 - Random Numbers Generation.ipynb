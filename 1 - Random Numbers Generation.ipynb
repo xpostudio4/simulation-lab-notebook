{
 "cells": [
  {
   "cell_type": "code",
   "execution_count": 1,
   "metadata": {},
   "outputs": [
    {
     "name": "stdout",
     "output_type": "stream",
     "text": [
      "[ 1.04127023  0.10822797 -1.44079725]\n",
      "[ 1.04127023  0.10822797 -1.44079725]\n"
     ]
    },
    {
     "data": {
      "text/plain": [
       "array([ True,  True,  True], dtype=bool)"
      ]
     },
     "execution_count": 1,
     "metadata": {},
     "output_type": "execute_result"
    }
   ],
   "source": [
    "import numpy as np\n",
    "current_state = np.random.get_state()\n",
    "\n",
    "# produce some random numbers:\n",
    "a = np.random.randn(3)\n",
    "print(a)\n",
    "\n",
    "# Now, restoring the RNG state and producing again 3 random numbers, you get the same result:\n",
    "\n",
    "np.random.set_state(current_state)\n",
    "b = np.random.randn(3)\n",
    "print(b)\n",
    "a == b"
   ]
  },
  {
   "cell_type": "markdown",
   "metadata": {},
   "source": [
    "In simulation, large amount of cheap (easily computed) random numbers are required. In general, consider how random numbers might be obtained:\n",
    "\n",
    "1. Dice, coins, colored balls\n",
    "2. Specially designed electronic equipment \n",
    "3. Algorithms.\n",
    "\n",
    "In general we depend agresively of Algorithms. But Algorithms can't create a real random Number.\n",
    "A good read can be this article about [a real case of random generated numbers](https://www.fastcodesign.com/90137157/the-hardest-working-office-design-in-america-encrypts-your-data-with-lava-lamps)\n",
    "\n",
    "\n",
    "What are a few usages of random numbers?\n",
    "\n",
    "* Simulation\n",
    "* VideoGames\n",
    "* Gambling\n",
    "* Security (Encryption, 2-factor authentication, etc)\n",
    "* Cryptography (Digital Signing, etc)\n",
    "\n",
    "\n",
    "> **Definition 1 (Pseudorandom Numbers):** A sequence of pseudorandom numbers, Ui, is a deterministic sequence of numbers in (0, 1) having the same relevant statistical prop- erties as a sequence of truly random U(0, 1) numbers. \n",
    "\n",
    "\n",
    "A set of statistical tests are performed on the pseudorandom numbers generated from algorithms in order to indicate that their properties are not signicantly different from a true set of U(0, 1) random numbers.\n",
    "\n",
    "The algorithms that produce pseudorandom numbers are called **random number generators**. "
   ]
  },
  {
   "cell_type": "markdown",
   "metadata": {},
   "source": [
    "**Definition 2:** \n",
    "An LCG defines a sequence of integers, $R_0,R_1, ...$ between 0 and m − 1 according to the following recursive relationship, where i = 0, 1, 2, ...:\n",
    "\n",
    "\\begin{equation*} R_{(i+1)} = (aR_i + c) \\,mod \\text{ m for i = 0,1,2,...} \\end{equation*}  \n",
    "\n",
    "where R0 is called the seed of the sequence, a is called the constant multiplier, c is called the increment, and m is called the modulus. $(m, a, c, R_0 )$  are integers with $ a > 0, c≥0,m>a,m>c,m>R_0$ ,and $ 0≤R_i ≤m−1$ .\n"
   ]
  },
  {
   "cell_type": "markdown",
   "metadata": {},
   "source": [
    "To compute the corresponding pseudorandom uniform number, we use \\begin{equation*} U_i = R_i/m\\end{equation*}"
   ]
  },
  {
   "cell_type": "markdown",
   "metadata": {},
   "source": [
    "## Exercise 1: \n",
    "Consider an LCG with parameters $(m = 8, a = 5, c = 1, R_0 = 5)$. Compute the first nine values for $R_i$ and $U_i$ from the defined sequence.\n",
    "\n",
    "\n",
    "First of all, we need to remember what the modulus is:\n",
    "\n",
    "\\begin{align*}\n",
    "z\\,=\\,y\\,mod\\,m\n",
    "R_1 =(5R_0 +1)\\,mod\\,8 = 26\\,mod\\,8\\,=\\,2\\,⇒\\,U_1 \\,= 0.25 \\\\\n",
    "R_2 =(5R_1\\, +1)\\,mod\\,8\\,=\\,11\\,mod\\,8\\,=\\,3\\,⇒\\,U_2 =\\,0.375 \\\\ \n",
    "R_3 =(5R_2 +1)mod\\,8=16\\,mod\\,8\\,=\\,0\\,⇒\\,U_3 =\\,0.0 \\\\\n",
    "R_4 =(5R_3 +1)mod\\,8=1\\,mod\\,8=1⇒\\,U_4 =\\,0.125 \\\\\n",
    "R_5 =6⇒U_5 =0.75 \\\\\n",
    "R_6 =7⇒U_6 =0.875 \\\\ \n",
    "R_7 =4⇒U_7 =0.5 \\\\\n",
    "R_8 =5⇒U_8 =0.625 \\\\\n",
    "R_9 =2⇒U_9 =0.25\n",
    "\\end{align*}\n",
    "\n",
    "\n",
    "A good way of expressing this in a software is the following\n"
   ]
  },
  {
   "cell_type": "code",
   "execution_count": 2,
   "metadata": {},
   "outputs": [],
   "source": [
    "def linear_congruential_generator(modulus, constant_multiplier, constant, seed):\n",
    "    _xn = seed\n",
    "\n",
    "    while True:\n",
    "        yield _xn\n",
    "        _xn = (constant_multiplier * _xn + constant) % modulus\n",
    "        \n",
    "# create the first 12 elements"
   ]
  },
  {
   "cell_type": "code",
   "execution_count": 5,
   "metadata": {},
   "outputs": [
    {
     "name": "stdout",
     "output_type": "stream",
     "text": [
      "R0 = 5, U0 = 0.625\n",
      "R1 = 2, U1 = 0.25\n",
      "R2 = 3, U2 = 0.375\n",
      "R3 = 0, U3 = 0.0\n",
      "R4 = 1, U4 = 0.125\n",
      "R5 = 6, U5 = 0.75\n",
      "R6 = 7, U6 = 0.875\n",
      "R7 = 4, U7 = 0.5\n",
      "R8 = 5, U8 = 0.625\n",
      "R9 = 2, U9 = 0.25\n",
      "R10 = 3, U10 = 0.375\n",
      "R11 = 0, U11 = 0.0\n",
      "R12 = 1, U12 = 0.125\n",
      "R13 = 6, U13 = 0.75\n",
      "R14 = 7, U14 = 0.875\n"
     ]
    }
   ],
   "source": [
    "# Exercise 1 Proof\n",
    "generator = linear_congruential_generator(8, 5, 1, 5)\n",
    "\n",
    "for i in range(15):\n",
    "    random_number = next(generator)\n",
    "    print('R{} = {}, U{} = {}'.format(i, random_number, i, random_number/8.0))\n",
    "        \n",
    "    "
   ]
  },
  {
   "cell_type": "markdown",
   "metadata": {},
   "source": [
    "**Theorem 1 (LCG Full Period Conditions):** An LCG has full period if and only if the following three conditions hold:\n",
    "1. The only positive integer that (exactly) divides both $m$ and $c$ is $1$ (i.e., $c$ and $m$ have no common factors other than $1$).\n",
    "2. If $q$ is a prime number that divides $m$ then $q$ should divide $(a−1)$ (i.e., $(a−1)$ is a multiple of every prime number that divides $m$).\n",
    "3. If $4$ divides $m$, then $4$ should divide $(a−1)$ (i.e., $(a−1)$ is a multiple of $4$ if $m$ is a multiple of $4$).\n"
   ]
  },
  {
   "cell_type": "markdown",
   "metadata": {},
   "source": [
    "**Exercise 2:** Let's Check if LCG reaches Full Period\n",
    "\n",
    "Let's use Theorem 1 to proof this.\n",
    "\n",
    "* **Condition 1:** $c$ and $m$ have no common factors other than $1$.\n",
    "The factors of $m$ = $8$ are $(1, 2, 4, 8)$, since $c = 1$ (with factor 1) condition 1 is true.\n",
    "* **Condition 2:** $(a − 1)$ is a multiple of every prime number that divides m. The  first few prime numbers are $(1, 2, 3, 5, 7)$. The prime numbers, $q$, that divide $m = 8$ are $(q = 1, 2)$. Since $a = 5$ and $(a − 1) = 4$, clearly $q = 1$ divides $4$ and $q = 2$ divides $4$. Thus, condition 2 is true.\n",
    "* **Condition 3:** If $4$ divides $m$, then $4$ should divide $(a − 1)$.\n",
    "Since $m = 8$, clearly $4$ divides $m$. Also, 4 divides $(a − 1) = 4$. Thus, condition 3 holds."
   ]
  },
  {
   "cell_type": "markdown",
   "metadata": {},
   "source": [
    "# Exercises\n",
    "\n",
    "Analyze the following LCG: $X_i = (11X_i - _1 + 5)(mod (16)), X_0 = 1$ using Theorem 1.\n",
    "\n",
    "(a) What is the maximum possible period length for this generator? Does this generator achieve the maximum possible period length? Justify your answer.\n",
    "\n",
    "(b) Generate two pseudorandom uniform numbers for this generator."
   ]
  },
  {
   "cell_type": "code",
   "execution_count": 7,
   "metadata": {},
   "outputs": [
    {
     "name": "stdout",
     "output_type": "stream",
     "text": [
      "R0 = 1, U0 = 0.125\n",
      "R1 = 0, U1 = 0.0\n",
      "R2 = 5, U2 = 0.625\n",
      "R3 = 12, U3 = 1.5\n",
      "R4 = 9, U4 = 1.125\n",
      "R5 = 8, U5 = 1.0\n",
      "R6 = 13, U6 = 1.625\n",
      "R7 = 4, U7 = 0.5\n",
      "R8 = 1, U8 = 0.125\n",
      "R9 = 0, U9 = 0.0\n",
      "R10 = 5, U10 = 0.625\n",
      "R11 = 12, U11 = 1.5\n",
      "R12 = 9, U12 = 1.125\n",
      "R13 = 8, U13 = 1.0\n",
      "R14 = 13, U14 = 1.625\n",
      "R15 = 4, U15 = 0.5\n"
     ]
    }
   ],
   "source": [
    "# The only positive integer that (exactly) divides both  m  and  c,  is  1  (i.e., \n",
    "# cc  and  mm  have no common factors other than  11 ).\n",
    "m = 16; m_factors = [1, 2, 4, 8, 16]\n",
    "c = 5; c_factors = [1,5]\n",
    "# If  q  is a prime number that divides  m  then  qq  should divide  (a−1) \n",
    "# (i.e.,  (a−1)(a−1)  is a multiple of every prime number that divides  mm ).\n",
    "a = 11; b = a-1 # 10\n",
    "# True\n",
    "# If  4  divides  m , then  4  should divide  (a−1)  (i.e.,  (a−1)(a−1)  is a multiple of  44  if  mm  is a multiple of  44 ).\n",
    "# False\n",
    "\n",
    "# Exercise 1 Proof\n",
    "generator = linear_congruential_generator(16, 11, 5, 1)\n",
    "\n",
    "for i in range(16):\n",
    "    random_number = next(generator)\n",
    "    print('R{} = {}, U{} = {}'.format(i, random_number, i, random_number/8.0))"
   ]
  },
  {
   "cell_type": "markdown",
   "metadata": {},
   "source": [
    "**Definition 3 (Random Number Stream):** The subsequence of random numbers generated from a given seed is called a random number stream."
   ]
  },
  {
   "cell_type": "markdown",
   "metadata": {},
   "source": [
    "## Other alternatives\n",
    "\n",
    "With today’s modern computers, even $m$ is $2^{31} − 1 = 2, 147, 483, 647$ is not very big. For large simulations, you can easily run through all these random numbers.\n",
    "\n",
    "Given current computing power, the previously discussed PMMLCGs are insuf cient since it is likely that all the 2 billion or so of the random numbers would be used in per- forming serious simulation studies. Thus, a new class of random number generators that have extremely long periods was developed. The random number generator described in L’Ecuyer et al. [2002] is one example of such a generator. It is based on the combina- tion of two multiple recursive generators resulting in a period of approximately $3.1 × 10^{57}$.\n",
    "\n",
    "This is the same generator that is now used in many commercial simulation packages.\n",
    "\n"
   ]
  },
  {
   "cell_type": "markdown",
   "metadata": {},
   "source": [
    "## References\n",
    "\n",
    "[How Computers generate random numbers ](https://www.howtogeek.com/183051/htg-explains-how-computers-generate-random-numbers/)"
   ]
  },
  {
   "cell_type": "markdown",
   "metadata": {},
   "source": [
    "\\begin{align*}\n",
    "R_{1, i} = (1, 403, 580R_{1, i-2} - 810,728 R_{1, i-3})[mod(2^{32} - 209)] \\\\ \n",
    "R_{2, i} = (527,612R_{2, i-1} - 1,370,589 R_{2, i-3})[mod(2^{32} - 22,853)] \n",
    "\\end{align*}"
   ]
  },
  {
   "cell_type": "markdown",
   "metadata": {},
   "source": [
    "\\begin{align*}\n",
    "Y_i = (R_{1,i} - R_{2,i})[mod(2^32 - 209)] \\\\\n",
    "U_i = Y_1 /{ 2^32 - 209}\n",
    "\\end{align*}"
   ]
  },
  {
   "cell_type": "markdown",
   "metadata": {},
   "source": []
  },
  {
   "cell_type": "code",
   "execution_count": null,
   "metadata": {},
   "outputs": [],
   "source": []
  }
 ],
 "metadata": {
  "kernelspec": {
   "display_name": "Python 3",
   "language": "python",
   "name": "python3"
  },
  "language_info": {
   "codemirror_mode": {
    "name": "ipython",
    "version": 3
   },
   "file_extension": ".py",
   "mimetype": "text/x-python",
   "name": "python",
   "nbconvert_exporter": "python",
   "pygments_lexer": "ipython3",
   "version": "3.5.1"
  }
 },
 "nbformat": 4,
 "nbformat_minor": 2
}
