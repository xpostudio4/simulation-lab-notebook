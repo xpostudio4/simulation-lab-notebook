{
 "cells": [
  {
   "cell_type": "markdown",
   "metadata": {},
   "source": [
    "# Testing Random Numbers\n",
    "\n",
    "## Introduction\n",
    "\n",
    "Suppose we're playing a game based on a coin toss. Naturally, you'll want to know if the coin is fair before playing (\"fair\" here has the meaning that the: $ probability\\ of\\ heads\\ =\\ probability\\ of\\ tails\\ = 1/2 $). How would you test this? Easy: toss the coin a bunch of times (say, 100) and count the number of heads (or tails). If 50 heads show up, you have some confidence that the coin is fair.\n",
    "\n",
    "But, things being what they are, it's unlikely you would get exactly 50 heads. So what criterion do you use? Is 49 or 51 heads acceptable? Meh, probably. If the number of heads is 10 or 24, then things look suspicious.\n",
    "\n",
    "We need a way to convert our intuition that the coin is fair (or not) into a systematic test that any palooka can use. If you like probability lingo (and, hey, who doesn't) such a test is called \"Binomial\" or \"Poisson\".\n",
    "\n",
    "Now, what if our game involves throwing a die instead of tossing a coin? Now we have SIX outcomes to test (the set { 1 2 3 4 5 6 }). If the die is \"fair\" we expect the $probability\\ of\\ 1\\ =\\ probability\\ of\\ 2\\ =\\ ... =\\ probability\\ of\\ 6\\ =\\ 1/6$. Suppose we test the die by tossing it 60 times. Suppose we get $[ 10\\ 10\\ 10\\ 10\\ 10\\ 10\\ ]$ (I'm indicating here the number of times each of the six faces turned up). That gives us confidence that the die is fair. But what if we observed $[ 9\\ 11\\ 10\\ 8\\ 12\\ 10\\ ]$? Or some other combination? Again, we need a systematic test that any palooka can use. The tests that handle this kind of issues are frequency test, the most common test is called chi-square (we'll work with it later on the course). You take the data you got $[ 9\\ 11\\ 10\\ 8\\ 12\\ 10\\ ]$ and the data you thought you \"should\" get $[ 10\\ 10\\ 10\\ 10\\ 10\\ 10\\ ]$ and run it through some formula and it gives you a thumbs up / thumbs down that indicates whether that data is weird or not given your expectation. \n",
    "\n",
    "\n",
    "Technically chi-square only gives you a yes/no answer, but often people bend the rules and report the \"goodness\" of the fit, which is really just how 'big\" of a thumbs up or a thumbs down you obtained with the formula. The real power of chi-square is that we can test any hypothesis we want. In the die tossing example, there is nothing sacred about $[ 10\\ 10\\ 10\\ 10\\ 10\\ 10\\ ]$ - that's simply the data we expect if the die is \"fair\". We could just as easily use chi-square to test the hypothesis that the die always comes up 1, or that evens are more likely than odds or that throws sum to a prime number. The only requirement is that we can convert our hypothesis (which is just a bunch of words) into numbers, i.e. the data we expect to observe."
   ]
  },
  {
   "cell_type": "markdown",
   "metadata": {},
   "source": [
    "## Frequency Tests and average test\n",
    "\n",
    "In general we want to proof two things that are neccesary for a set of numbers to be random, **uniformity** and **independence**. We have two ways of dealing with that."
   ]
  },
  {
   "cell_type": "markdown",
   "metadata": {},
   "source": [
    "## Problem No.1 Proof of Averages\n",
    "\n",
    "Demonstrate that the following random numbers pass the criteria of the averages"
   ]
  },
  {
   "cell_type": "code",
   "execution_count": 43,
   "metadata": {},
   "outputs": [
    {
     "data": {
      "text/html": [
       "<table><tr><td>0.145</td><td>0.595</td><td>0.951</td><td>0.57</td><td>0.301</td></tr><tr><td>0.505</td><td>0.105</td><td>0.105</td><td>0.635</td><td>0.693</td></tr><tr><td>0.364</td><td>0.79</td><td>0.384</td><td>0.244</td><td>0.67</td></tr><tr><td>0.76</td><td>0.503</td><td>0.737</td><td>0.705</td><td>0.462</td></tr><tr><td>0.333</td><td>0.257</td><td>0.991</td><td>0.635</td><td>0.805</td></tr><tr><td>0.482</td><td>0.31</td><td>0.345</td><td>0.99</td><td>0.08</td></tr></table>"
      ],
      "text/plain": [
       "<IPython.core.display.HTML object>"
      ]
     },
     "metadata": {},
     "output_type": "display_data"
    }
   ],
   "source": [
    "# This are the imports needed for the current lesson\n",
    "import pandas as pd\n",
    "import matplotlib.pyplot as plt\n",
    "import seaborn as sns\n",
    "\n",
    "from IPython.display import HTML, display\n",
    "from math import sqrt \n",
    "from scipy.stats import chisquare, norm\n",
    "\n",
    "sns.set(color_codes=True)\n",
    "\n",
    "data = [[0.145, 0.595, 0.951, 0.57, 0.301],\n",
    "        [0.505, 0.105, 0.105, 0.635, 0.693],\n",
    "        [0.364, 0.79, 0.384, 0.244, 0.67],\n",
    "        [0.76, 0.503, 0.737, 0.705, 0.462],\n",
    "        [0.333, 0.257, 0.991, 0.635, 0.805],\n",
    "        [0.482, 0.31, 0.345, 0.99, 0.08]]\n",
    "\n",
    "display(HTML(\n",
    "    '<table><tr>{}</tr></table>'.format(\n",
    "        '</tr><tr>'.join(\n",
    "            '<td>{}</td>'.format('</td><td>'.join(str(_) for _ in row)) for row in data)\n",
    "        )\n",
    " ))"
   ]
  },
  {
   "cell_type": "code",
   "execution_count": 42,
   "metadata": {},
   "outputs": [],
   "source": [
    "numbers = [0.2221, 0.3095, 0.6076, 0.4461, 0.4440,\n",
    "           0.3846, 0.1520, 0.2909, 0.1734, 0.8916,\n",
    "           0.4175, 0.5971, 0.7316, 0.9455, 0.4294,\n",
    "           0.9644, 0.5102, 0.0792, 0.6081, 0.5882,\n",
    "           0.9625, 0.8672, 0.1823, 0.9053, 0.2870,\n",
    "           0.5011, 0.7530, 0.6866, 0.7114, 0.1279]"
   ]
  },
  {
   "cell_type": "markdown",
   "metadata": {},
   "source": [
    "Here we can see the distribution of the values for the data"
   ]
  },
  {
   "cell_type": "code",
   "execution_count": 39,
   "metadata": {},
   "outputs": [
    {
     "data": {
      "image/png": "[encoded data removed]",
      "text/plain": [
       "<matplotlib.figure.Figure at 0x10c5c3f60>"
      ]
     },
     "metadata": {},
     "output_type": "display_data"
    }
   ],
   "source": [
    "# Here you can see the distribution of the values for the items\n",
    "ranges = [(i*0.10, (1+i)*0.10) for i in range(0, 10)]\n",
    "\n",
    "sns.distplot(numbers, bins=10, kde=False, rug=False)\n",
    "plt.show()"
   ]
  },
  {
   "cell_type": "code",
   "execution_count": 41,
   "metadata": {},
   "outputs": [
    {
     "name": "stdout",
     "output_type": "stream",
     "text": [
      "0.5259100000000001\n",
      "1.95996398454\n",
      "lower_limit is: 0.3967008279492397\n",
      "upper_limit is: 0.6032991720507602\n",
      "H0 is accepted\n"
     ]
    }
   ],
   "source": [
    "# This section here does the process\n",
    "average = sum(numbers)/len(numbers)\n",
    "print(average)\n",
    "\n",
    "# Hyphotesis\n",
    "mu = 0.5\n",
    "\n",
    "# alpha = 0.05 = 5%\n",
    "alpha = 0.05\n",
    "alpha_divided_by_2 = alpha/2\n",
    "zetha = norm.ppf(1 - alpha_divided_by_2) \n",
    "print(zetha)\n",
    "\n",
    "def lower_limit():\n",
    "    return mu - zetha / sqrt(12*len(numbers))\n",
    "\n",
    "def upper_limit():\n",
    "    return mu + zetha / sqrt(12*len(numbers))\n",
    "\n",
    "print(\"lower_limit is: {}\".format(lower_limit()))\n",
    "print(\"upper_limit is: {}\".format(upper_limit()))\n",
    "\n",
    "if lower_limit() < average < upper_limit():\n",
    "    print(\"H0 is accepted\")\n",
    "else: \n",
    "    print(\"H1 is accepted\")\n",
    "    "
   ]
  },
  {
   "cell_type": "markdown",
   "metadata": {},
   "source": [
    "# Prueba de media Arimetica\n",
    "\\begin{equation}\n",
    "H_0: \\mu =\\ 0.5 \\\\\n",
    "H_1: \\mu \\neq\\ 0.5\\\\\n",
    "\\overline{x} = 0.5259 \\\\\n",
    "\\alpha =\\ 0.05 \\\\\n",
    "\\alpha/2 =\\ 0.025\\\\\n",
    "Z_{\\alpha/2} = 1.9599\\ \\\\\n",
    "Limite\\ Inferior = \\mu - \\frac{Z_{\\alpha/2}}{\\sqrt{12n}}\\\\\n",
    "Limite\\ Superior = \\mu + \\frac{Z_{\\alpha/2}}{\\sqrt{12n}}\\\\\n",
    "\\end{equation}"
   ]
  },
  {
   "cell_type": "code",
   "execution_count": 44,
   "metadata": {},
   "outputs": [],
   "source": [
    "numbers = [0.34, 0.9, 0.25, 0.89, 0.87, 0.44, 0.12, 0.21, 0.46, 0.67,\n",
    "           0.83, 0.76, 0.79, 0.64, 0.7, 0.81, 0.94, 0.74, 0.22, 0.74,\n",
    "           0.96, 0.99, 0.77, 0.67, 0.56, 0.41, 0.52, 0.73, 0.99, 0.02,\n",
    "           0.47, 0.3, 0.17, 0.82, 0.56, 0.05, 0.45, 0.31, 0.78, 0.05,\n",
    "           0.79, 0.71, 0.23, 0.19, 0.82, 0.93, 0.65, 0.37, 0.39, 0.42, \n",
    "           0.99, 0.17, 0.99, 0.46, 0.05, 0.66, 0.1, 0.42, 0.18, 0.49,\n",
    "           0.37, 0.51, 0.54, 0.01, 0.81, 0.28, 0.69, 0.34, 0.75, 0.49,\n",
    "           0.72, 0.43, 0.56, 0.97, 0.3, 0.94, 0.96, 0.58, 0.73, 0.05,\n",
    "           0.06, 0.39, 0.84, 0.24, 0.4, 0.64, 0.4, 0.19, 0.79, 0.62,\n",
    "           0.18, 0.26, 0.97, 0.88, 0.64, 0.47, 0.6, 0.11, 0.29, 0.78]"
   ]
  },
  {
   "cell_type": "markdown",
   "metadata": {},
   "source": [
    "Here we can see the distribution of the values for the data"
   ]
  },
  {
   "cell_type": "code",
   "execution_count": 45,
   "metadata": {},
   "outputs": [
    {
     "data": {
      "image/png": "[encoded data removed]",
      "text/plain": [
       "<matplotlib.figure.Figure at 0x10c3d5cf8>"
      ]
     },
     "metadata": {},
     "output_type": "display_data"
    }
   ],
   "source": [
    "# Display the structure of the data of the second element\n",
    "sns.set(color_codes=True)\n",
    "\n",
    "ranges = [(i*0.10, (1+i)*0.10) for i in range(0, 10)]\n",
    "\n",
    "sns.distplot(numbers, bins=10, kde=False, rug=False)\n",
    "plt.show()"
   ]
  },
  {
   "cell_type": "markdown",
   "metadata": {},
   "source": [
    "# Chi-Square Test\n",
    "\n",
    "La prueba Chi-Cuadrada en lugar de medir la diferencia de cada punto entre la muestra y la\n",
    "desviación verdadera, checa la desviación del valor esperado\n",
    "\n",
    "\\begin{equation}\n",
    " \\tilde{\\chi}^2=\\sum_{i=1}^{n} \\frac{(O_i - E_i)^2}{E_i} \\\\\n",
    " E_i\\ =\\ \\frac{N}{n}\n",
    "\\end{equation}"
   ]
  },
  {
   "cell_type": "code",
   "execution_count": 52,
   "metadata": {},
   "outputs": [
    {
     "name": "stdout",
     "output_type": "stream",
     "text": [
      "4.6000000000000005\n",
      "16.9189776046\n"
     ]
    }
   ],
   "source": [
    "from scipy.stats import chi2\n",
    "\n",
    "values = []\n",
    "for i in range(10):\n",
    "    numbers_within_range = []\n",
    "    for n in numbers:\n",
    "        if i*.1 <= n <= (i+1)*.1:\n",
    "            numbers_within_range.append(n)\n",
    "    values.append(numbers_within_range)\n",
    "\n",
    "# The count of all the numbers in ranges from 0-0.1, 0.1-0.2 ... to 0.9-1.0\n",
    "observed_values = [len(l) for l in values]\n",
    "\n",
    "# The expected values, if the distribution is well distributed, we would expect the same amount \n",
    "# of numbers for each section [10, 10, ..., 10]\n",
    "expected_values = [10 for x in range(10)]\n",
    "\n",
    "chi_square_observed = sum([(observed - 10)**2/10 for observed in observed_values])\n",
    "\n",
    "# Get The theoritical value\n",
    "\n",
    "chi_squared_stat = chi2.ppf(q=0.95, df = 9)\n",
    "print(chi_square_observed)\n",
    "print(chi_squared_stat)"
   ]
  },
  {
   "cell_type": "markdown",
   "metadata": {},
   "source": [
    "## Notes\n",
    "\n",
    "- A pretty good [z-table](http://www.statisticshowto.com/tables/z-table/)"
   ]
  },
  {
   "cell_type": "code",
   "execution_count": 50,
   "metadata": {},
   "outputs": [],
   "source": []
  },
  {
   "cell_type": "code",
   "execution_count": null,
   "metadata": {},
   "outputs": [],
   "source": []
  }
 ],
 "metadata": {
  "kernelspec": {
   "display_name": "Python 3",
   "language": "python",
   "name": "python3"
  },
  "language_info": {
   "codemirror_mode": {
    "name": "ipython",
    "version": 3
   },
   "file_extension": ".py",
   "mimetype": "text/x-python",
   "name": "python",
   "nbconvert_exporter": "python",
   "pygments_lexer": "ipython3",
   "version": "3.5.1"
  }
 },
 "nbformat": 4,
 "nbformat_minor": 2
}
